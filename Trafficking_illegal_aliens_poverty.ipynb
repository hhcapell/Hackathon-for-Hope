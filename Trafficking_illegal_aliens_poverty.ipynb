{
 "cells": [
  {
   "cell_type": "markdown",
   "metadata": {},
   "source": [
    "\n",
    "\n",
    "## HACKATHON 4 HOPE 2019:  Exploring Additional Country Demographics for Context"
   ]
  },
  {
   "cell_type": "code",
   "execution_count": 1,
   "metadata": {},
   "outputs": [],
   "source": [
    "## Author:  Heather Capell\n",
    "## Team:    Jon Strunk, Ursula Saelzler, Heather Capell"
   ]
  },
  {
   "cell_type": "markdown",
   "metadata": {},
   "source": [
    "### In addition to Hackathon datasets, we explored the following additional sources:\n",
    "\n",
    "### Illegal Alien stats:  www.dhs.gov/immigration-statistics# (Department of Homeland Security) \n",
    "### Population, Poverty, HDI, GDP, Battle Death stats:  www.gapminder.org/data/ (Gapminder World Data)"
   ]
  },
  {
   "cell_type": "markdown",
   "metadata": {},
   "source": [
    "### LOAD ANY PACKAGES MAY NEED"
   ]
  },
  {
   "cell_type": "code",
   "execution_count": 2,
   "metadata": {},
   "outputs": [],
   "source": [
    "import pandas as pd\n",
    "import numpy as np\n",
    "from sklearn import preprocessing\n",
    "\n",
    "import statsmodels.api as sm\n",
    "import statsmodels.formula.api as smf\n",
    "from statsmodels.stats.outliers_influence import variance_inflation_factor\n",
    "from numpy.linalg import matrix_rank\n",
    "\n",
    "from sklearn.model_selection import train_test_split\n",
    "from sklearn.model_selection import cross_val_score\n",
    "from sklearn.metrics import mean_squared_error, r2_score\n",
    "from sklearn.linear_model import LinearRegression\n",
    "import math\n",
    "\n",
    "import matplotlib.pyplot as plt\n",
    "import seaborn as sns"
   ]
  },
  {
   "cell_type": "markdown",
   "metadata": {},
   "source": [
    "### LOAD HACKATHON DATASET ON hUMAN TRAFFICKING"
   ]
  },
  {
   "cell_type": "code",
   "execution_count": 3,
   "metadata": {},
   "outputs": [],
   "source": [
    "df = pd.read_csv('./../datasets/Data D4H19 - AHT Sept 2018.csv', low_memory=False)"
   ]
  },
  {
   "cell_type": "code",
   "execution_count": 4,
   "metadata": {},
   "outputs": [
    {
     "data": {
      "text/html": [
       "<div>\n",
       "<style scoped>\n",
       "    .dataframe tbody tr th:only-of-type {\n",
       "        vertical-align: middle;\n",
       "    }\n",
       "\n",
       "    .dataframe tbody tr th {\n",
       "        vertical-align: top;\n",
       "    }\n",
       "\n",
       "    .dataframe thead th {\n",
       "        text-align: right;\n",
       "    }\n",
       "</style>\n",
       "<table border=\"1\" class=\"dataframe\">\n",
       "  <thead>\n",
       "    <tr style=\"text-align: right;\">\n",
       "      <th></th>\n",
       "      <th>yearOfRegistration</th>\n",
       "      <th>Datasource</th>\n",
       "      <th>gender</th>\n",
       "      <th>ageBroad</th>\n",
       "      <th>majorityStatus</th>\n",
       "      <th>majorityStatusAtExploit</th>\n",
       "      <th>majorityEntry</th>\n",
       "      <th>citizenship</th>\n",
       "      <th>meansOfControlDebtBondage</th>\n",
       "      <th>meansOfControlTakesEarnings</th>\n",
       "      <th>...</th>\n",
       "      <th>typeOfSexPrivateSexualServices</th>\n",
       "      <th>typeOfSexConcatenated</th>\n",
       "      <th>isAbduction</th>\n",
       "      <th>RecruiterRelationship</th>\n",
       "      <th>CountryOfExploitation</th>\n",
       "      <th>recruiterRelationIntimatePartner</th>\n",
       "      <th>recruiterRelationFriend</th>\n",
       "      <th>recruiterRelationFamily</th>\n",
       "      <th>recruiterRelationOther</th>\n",
       "      <th>recruiterRelationUnknown</th>\n",
       "    </tr>\n",
       "  </thead>\n",
       "  <tbody>\n",
       "    <tr>\n",
       "      <th>0</th>\n",
       "      <td>2002</td>\n",
       "      <td>Case Management</td>\n",
       "      <td>-99</td>\n",
       "      <td>-99</td>\n",
       "      <td>-99</td>\n",
       "      <td>-99</td>\n",
       "      <td>-99</td>\n",
       "      <td>-99</td>\n",
       "      <td>-99</td>\n",
       "      <td>-99</td>\n",
       "      <td>...</td>\n",
       "      <td>-99</td>\n",
       "      <td>-99</td>\n",
       "      <td>-99</td>\n",
       "      <td>Unknown</td>\n",
       "      <td>-99</td>\n",
       "      <td>0</td>\n",
       "      <td>0</td>\n",
       "      <td>0</td>\n",
       "      <td>0</td>\n",
       "      <td>1</td>\n",
       "    </tr>\n",
       "    <tr>\n",
       "      <th>1</th>\n",
       "      <td>2002</td>\n",
       "      <td>Case Management</td>\n",
       "      <td>-99</td>\n",
       "      <td>-99</td>\n",
       "      <td>-99</td>\n",
       "      <td>-99</td>\n",
       "      <td>-99</td>\n",
       "      <td>-99</td>\n",
       "      <td>-99</td>\n",
       "      <td>-99</td>\n",
       "      <td>...</td>\n",
       "      <td>-99</td>\n",
       "      <td>-99</td>\n",
       "      <td>-99</td>\n",
       "      <td>Unknown</td>\n",
       "      <td>-99</td>\n",
       "      <td>0</td>\n",
       "      <td>0</td>\n",
       "      <td>0</td>\n",
       "      <td>0</td>\n",
       "      <td>1</td>\n",
       "    </tr>\n",
       "    <tr>\n",
       "      <th>2</th>\n",
       "      <td>2002</td>\n",
       "      <td>Case Management</td>\n",
       "      <td>-99</td>\n",
       "      <td>-99</td>\n",
       "      <td>-99</td>\n",
       "      <td>-99</td>\n",
       "      <td>-99</td>\n",
       "      <td>-99</td>\n",
       "      <td>-99</td>\n",
       "      <td>-99</td>\n",
       "      <td>...</td>\n",
       "      <td>-99</td>\n",
       "      <td>-99</td>\n",
       "      <td>-99</td>\n",
       "      <td>Unknown</td>\n",
       "      <td>-99</td>\n",
       "      <td>0</td>\n",
       "      <td>0</td>\n",
       "      <td>0</td>\n",
       "      <td>0</td>\n",
       "      <td>1</td>\n",
       "    </tr>\n",
       "    <tr>\n",
       "      <th>3</th>\n",
       "      <td>2002</td>\n",
       "      <td>Case Management</td>\n",
       "      <td>-99</td>\n",
       "      <td>-99</td>\n",
       "      <td>-99</td>\n",
       "      <td>-99</td>\n",
       "      <td>-99</td>\n",
       "      <td>-99</td>\n",
       "      <td>-99</td>\n",
       "      <td>-99</td>\n",
       "      <td>...</td>\n",
       "      <td>-99</td>\n",
       "      <td>-99</td>\n",
       "      <td>-99</td>\n",
       "      <td>Unknown</td>\n",
       "      <td>-99</td>\n",
       "      <td>0</td>\n",
       "      <td>0</td>\n",
       "      <td>0</td>\n",
       "      <td>0</td>\n",
       "      <td>1</td>\n",
       "    </tr>\n",
       "    <tr>\n",
       "      <th>4</th>\n",
       "      <td>2002</td>\n",
       "      <td>Case Management</td>\n",
       "      <td>-99</td>\n",
       "      <td>-99</td>\n",
       "      <td>-99</td>\n",
       "      <td>-99</td>\n",
       "      <td>-99</td>\n",
       "      <td>-99</td>\n",
       "      <td>-99</td>\n",
       "      <td>-99</td>\n",
       "      <td>...</td>\n",
       "      <td>-99</td>\n",
       "      <td>-99</td>\n",
       "      <td>-99</td>\n",
       "      <td>Unknown</td>\n",
       "      <td>-99</td>\n",
       "      <td>0</td>\n",
       "      <td>0</td>\n",
       "      <td>0</td>\n",
       "      <td>0</td>\n",
       "      <td>1</td>\n",
       "    </tr>\n",
       "  </tbody>\n",
       "</table>\n",
       "<p>5 rows × 62 columns</p>\n",
       "</div>"
      ],
      "text/plain": [
       "   yearOfRegistration       Datasource gender ageBroad majorityStatus  \\\n",
       "0                2002  Case Management    -99      -99            -99   \n",
       "1                2002  Case Management    -99      -99            -99   \n",
       "2                2002  Case Management    -99      -99            -99   \n",
       "3                2002  Case Management    -99      -99            -99   \n",
       "4                2002  Case Management    -99      -99            -99   \n",
       "\n",
       "  majorityStatusAtExploit majorityEntry citizenship  \\\n",
       "0                     -99           -99         -99   \n",
       "1                     -99           -99         -99   \n",
       "2                     -99           -99         -99   \n",
       "3                     -99           -99         -99   \n",
       "4                     -99           -99         -99   \n",
       "\n",
       "   meansOfControlDebtBondage  meansOfControlTakesEarnings  \\\n",
       "0                        -99                          -99   \n",
       "1                        -99                          -99   \n",
       "2                        -99                          -99   \n",
       "3                        -99                          -99   \n",
       "4                        -99                          -99   \n",
       "\n",
       "             ...             typeOfSexPrivateSexualServices  \\\n",
       "0            ...                                        -99   \n",
       "1            ...                                        -99   \n",
       "2            ...                                        -99   \n",
       "3            ...                                        -99   \n",
       "4            ...                                        -99   \n",
       "\n",
       "   typeOfSexConcatenated  isAbduction  RecruiterRelationship  \\\n",
       "0                    -99          -99                Unknown   \n",
       "1                    -99          -99                Unknown   \n",
       "2                    -99          -99                Unknown   \n",
       "3                    -99          -99                Unknown   \n",
       "4                    -99          -99                Unknown   \n",
       "\n",
       "   CountryOfExploitation  recruiterRelationIntimatePartner  \\\n",
       "0                    -99                                 0   \n",
       "1                    -99                                 0   \n",
       "2                    -99                                 0   \n",
       "3                    -99                                 0   \n",
       "4                    -99                                 0   \n",
       "\n",
       "   recruiterRelationFriend  recruiterRelationFamily  recruiterRelationOther  \\\n",
       "0                        0                        0                       0   \n",
       "1                        0                        0                       0   \n",
       "2                        0                        0                       0   \n",
       "3                        0                        0                       0   \n",
       "4                        0                        0                       0   \n",
       "\n",
       "   recruiterRelationUnknown  \n",
       "0                         1  \n",
       "1                         1  \n",
       "2                         1  \n",
       "3                         1  \n",
       "4                         1  \n",
       "\n",
       "[5 rows x 62 columns]"
      ]
     },
     "execution_count": 4,
     "metadata": {},
     "output_type": "execute_result"
    }
   ],
   "source": [
    "df.head()"
   ]
  },
  {
   "cell_type": "code",
   "execution_count": 5,
   "metadata": {},
   "outputs": [
    {
     "data": {
      "text/plain": [
       "(55434, 62)"
      ]
     },
     "execution_count": 5,
     "metadata": {},
     "output_type": "execute_result"
    }
   ],
   "source": [
    "df.shape"
   ]
  },
  {
   "cell_type": "markdown",
   "metadata": {},
   "source": [
    "### EXAMINE TRAFFICKING OCCURRING IN US ONLY"
   ]
  },
  {
   "cell_type": "code",
   "execution_count": 6,
   "metadata": {},
   "outputs": [],
   "source": [
    "## narrow focus to US only\n",
    "\n",
    "df_US = df[df['CountryOfExploitation'] == 'US']"
   ]
  },
  {
   "cell_type": "code",
   "execution_count": 7,
   "metadata": {},
   "outputs": [
    {
     "data": {
      "text/plain": [
       "(16956, 62)"
      ]
     },
     "execution_count": 7,
     "metadata": {},
     "output_type": "execute_result"
    }
   ],
   "source": [
    "df_US.shape"
   ]
  },
  {
   "cell_type": "code",
   "execution_count": 8,
   "metadata": {},
   "outputs": [
    {
     "data": {
      "text/html": [
       "<div>\n",
       "<style scoped>\n",
       "    .dataframe tbody tr th:only-of-type {\n",
       "        vertical-align: middle;\n",
       "    }\n",
       "\n",
       "    .dataframe tbody tr th {\n",
       "        vertical-align: top;\n",
       "    }\n",
       "\n",
       "    .dataframe thead th {\n",
       "        text-align: right;\n",
       "    }\n",
       "</style>\n",
       "<table border=\"1\" class=\"dataframe\">\n",
       "  <thead>\n",
       "    <tr style=\"text-align: right;\">\n",
       "      <th></th>\n",
       "      <th>yearOfRegistration</th>\n",
       "      <th>Datasource</th>\n",
       "      <th>gender</th>\n",
       "      <th>ageBroad</th>\n",
       "      <th>majorityStatus</th>\n",
       "      <th>majorityStatusAtExploit</th>\n",
       "      <th>majorityEntry</th>\n",
       "      <th>citizenship</th>\n",
       "      <th>meansOfControlDebtBondage</th>\n",
       "      <th>meansOfControlTakesEarnings</th>\n",
       "      <th>...</th>\n",
       "      <th>typeOfSexPrivateSexualServices</th>\n",
       "      <th>typeOfSexConcatenated</th>\n",
       "      <th>isAbduction</th>\n",
       "      <th>RecruiterRelationship</th>\n",
       "      <th>CountryOfExploitation</th>\n",
       "      <th>recruiterRelationIntimatePartner</th>\n",
       "      <th>recruiterRelationFriend</th>\n",
       "      <th>recruiterRelationFamily</th>\n",
       "      <th>recruiterRelationOther</th>\n",
       "      <th>recruiterRelationUnknown</th>\n",
       "    </tr>\n",
       "  </thead>\n",
       "  <tbody>\n",
       "    <tr>\n",
       "      <th>20889</th>\n",
       "      <td>2015</td>\n",
       "      <td>Hotline</td>\n",
       "      <td>Female</td>\n",
       "      <td>18--20</td>\n",
       "      <td>Adult</td>\n",
       "      <td>Adult</td>\n",
       "      <td>Unknown</td>\n",
       "      <td>US</td>\n",
       "      <td>-99</td>\n",
       "      <td>-99</td>\n",
       "      <td>...</td>\n",
       "      <td>0</td>\n",
       "      <td>Prostitution</td>\n",
       "      <td>0</td>\n",
       "      <td>Intimate Partner</td>\n",
       "      <td>US</td>\n",
       "      <td>1</td>\n",
       "      <td>0</td>\n",
       "      <td>0</td>\n",
       "      <td>0</td>\n",
       "      <td>0</td>\n",
       "    </tr>\n",
       "    <tr>\n",
       "      <th>20890</th>\n",
       "      <td>2015</td>\n",
       "      <td>Hotline</td>\n",
       "      <td>Female</td>\n",
       "      <td>18--20</td>\n",
       "      <td>Adult</td>\n",
       "      <td>Adult</td>\n",
       "      <td>Unknown</td>\n",
       "      <td>US</td>\n",
       "      <td>1</td>\n",
       "      <td>-99</td>\n",
       "      <td>...</td>\n",
       "      <td>0</td>\n",
       "      <td>Prostitution</td>\n",
       "      <td>0</td>\n",
       "      <td>Other</td>\n",
       "      <td>US</td>\n",
       "      <td>0</td>\n",
       "      <td>0</td>\n",
       "      <td>0</td>\n",
       "      <td>1</td>\n",
       "      <td>0</td>\n",
       "    </tr>\n",
       "    <tr>\n",
       "      <th>20891</th>\n",
       "      <td>2015</td>\n",
       "      <td>Hotline</td>\n",
       "      <td>Female</td>\n",
       "      <td>18--20</td>\n",
       "      <td>Adult</td>\n",
       "      <td>Adult</td>\n",
       "      <td>Adult</td>\n",
       "      <td>US</td>\n",
       "      <td>-99</td>\n",
       "      <td>-99</td>\n",
       "      <td>...</td>\n",
       "      <td>0</td>\n",
       "      <td>Prostitution</td>\n",
       "      <td>0</td>\n",
       "      <td>Intimate Partner</td>\n",
       "      <td>US</td>\n",
       "      <td>1</td>\n",
       "      <td>0</td>\n",
       "      <td>0</td>\n",
       "      <td>0</td>\n",
       "      <td>0</td>\n",
       "    </tr>\n",
       "    <tr>\n",
       "      <th>20892</th>\n",
       "      <td>2015</td>\n",
       "      <td>Hotline</td>\n",
       "      <td>Female</td>\n",
       "      <td>18--20</td>\n",
       "      <td>Adult</td>\n",
       "      <td>Adult</td>\n",
       "      <td>Unknown</td>\n",
       "      <td>US</td>\n",
       "      <td>-99</td>\n",
       "      <td>-99</td>\n",
       "      <td>...</td>\n",
       "      <td>0</td>\n",
       "      <td>Prostitution</td>\n",
       "      <td>0</td>\n",
       "      <td>Friend</td>\n",
       "      <td>US</td>\n",
       "      <td>0</td>\n",
       "      <td>1</td>\n",
       "      <td>0</td>\n",
       "      <td>0</td>\n",
       "      <td>0</td>\n",
       "    </tr>\n",
       "    <tr>\n",
       "      <th>20893</th>\n",
       "      <td>2015</td>\n",
       "      <td>Hotline</td>\n",
       "      <td>Female</td>\n",
       "      <td>18--20</td>\n",
       "      <td>Adult</td>\n",
       "      <td>Minor</td>\n",
       "      <td>Unknown</td>\n",
       "      <td>US</td>\n",
       "      <td>-99</td>\n",
       "      <td>1</td>\n",
       "      <td>...</td>\n",
       "      <td>0</td>\n",
       "      <td>Prostitution</td>\n",
       "      <td>0</td>\n",
       "      <td>Family/Relative</td>\n",
       "      <td>US</td>\n",
       "      <td>0</td>\n",
       "      <td>0</td>\n",
       "      <td>1</td>\n",
       "      <td>0</td>\n",
       "      <td>0</td>\n",
       "    </tr>\n",
       "  </tbody>\n",
       "</table>\n",
       "<p>5 rows × 62 columns</p>\n",
       "</div>"
      ],
      "text/plain": [
       "       yearOfRegistration Datasource  gender ageBroad majorityStatus  \\\n",
       "20889                2015    Hotline  Female   18--20          Adult   \n",
       "20890                2015    Hotline  Female   18--20          Adult   \n",
       "20891                2015    Hotline  Female   18--20          Adult   \n",
       "20892                2015    Hotline  Female   18--20          Adult   \n",
       "20893                2015    Hotline  Female   18--20          Adult   \n",
       "\n",
       "      majorityStatusAtExploit majorityEntry citizenship  \\\n",
       "20889                   Adult       Unknown          US   \n",
       "20890                   Adult       Unknown          US   \n",
       "20891                   Adult         Adult          US   \n",
       "20892                   Adult       Unknown          US   \n",
       "20893                   Minor       Unknown          US   \n",
       "\n",
       "       meansOfControlDebtBondage  meansOfControlTakesEarnings  \\\n",
       "20889                        -99                          -99   \n",
       "20890                          1                          -99   \n",
       "20891                        -99                          -99   \n",
       "20892                        -99                          -99   \n",
       "20893                        -99                            1   \n",
       "\n",
       "                 ...             typeOfSexPrivateSexualServices  \\\n",
       "20889            ...                                          0   \n",
       "20890            ...                                          0   \n",
       "20891            ...                                          0   \n",
       "20892            ...                                          0   \n",
       "20893            ...                                          0   \n",
       "\n",
       "       typeOfSexConcatenated  isAbduction  RecruiterRelationship  \\\n",
       "20889           Prostitution            0       Intimate Partner   \n",
       "20890           Prostitution            0                  Other   \n",
       "20891           Prostitution            0       Intimate Partner   \n",
       "20892           Prostitution            0                 Friend   \n",
       "20893           Prostitution            0        Family/Relative   \n",
       "\n",
       "       CountryOfExploitation  recruiterRelationIntimatePartner  \\\n",
       "20889                     US                                 1   \n",
       "20890                     US                                 0   \n",
       "20891                     US                                 1   \n",
       "20892                     US                                 0   \n",
       "20893                     US                                 0   \n",
       "\n",
       "       recruiterRelationFriend  recruiterRelationFamily  \\\n",
       "20889                        0                        0   \n",
       "20890                        0                        0   \n",
       "20891                        0                        0   \n",
       "20892                        1                        0   \n",
       "20893                        0                        1   \n",
       "\n",
       "       recruiterRelationOther  recruiterRelationUnknown  \n",
       "20889                       0                         0  \n",
       "20890                       1                         0  \n",
       "20891                       0                         0  \n",
       "20892                       0                         0  \n",
       "20893                       0                         0  \n",
       "\n",
       "[5 rows x 62 columns]"
      ]
     },
     "execution_count": 8,
     "metadata": {},
     "output_type": "execute_result"
    }
   ],
   "source": [
    "df_US.head()"
   ]
  },
  {
   "cell_type": "code",
   "execution_count": 9,
   "metadata": {},
   "outputs": [],
   "source": [
    "## group by citizenship (country of origin) of Trafficking victims\n",
    "\n",
    "df_US_sum = df_US['CountryOfExploitation'].groupby(df_US['citizenship']).count()"
   ]
  },
  {
   "cell_type": "code",
   "execution_count": 10,
   "metadata": {},
   "outputs": [
    {
     "data": {
      "text/plain": [
       "citizenship\n",
       "CN    115\n",
       "HT     13\n",
       "IN     15\n",
       "KR     12\n",
       "MX    444\n",
       "Name: CountryOfExploitation, dtype: int64"
      ]
     },
     "execution_count": 10,
     "metadata": {},
     "output_type": "execute_result"
    }
   ],
   "source": [
    "df_US_sum.head()"
   ]
  },
  {
   "cell_type": "code",
   "execution_count": 11,
   "metadata": {},
   "outputs": [],
   "source": [
    "df_US_sum = df_US_sum.to_frame()"
   ]
  },
  {
   "cell_type": "code",
   "execution_count": 12,
   "metadata": {},
   "outputs": [],
   "source": [
    "df_US_sum.columns.values[0] = 'Citizen_counts'"
   ]
  },
  {
   "cell_type": "code",
   "execution_count": 13,
   "metadata": {},
   "outputs": [
    {
     "data": {
      "text/html": [
       "<div>\n",
       "<style scoped>\n",
       "    .dataframe tbody tr th:only-of-type {\n",
       "        vertical-align: middle;\n",
       "    }\n",
       "\n",
       "    .dataframe tbody tr th {\n",
       "        vertical-align: top;\n",
       "    }\n",
       "\n",
       "    .dataframe thead th {\n",
       "        text-align: right;\n",
       "    }\n",
       "</style>\n",
       "<table border=\"1\" class=\"dataframe\">\n",
       "  <thead>\n",
       "    <tr style=\"text-align: right;\">\n",
       "      <th></th>\n",
       "      <th>Citizen_counts</th>\n",
       "    </tr>\n",
       "    <tr>\n",
       "      <th>citizenship</th>\n",
       "      <th></th>\n",
       "    </tr>\n",
       "  </thead>\n",
       "  <tbody>\n",
       "    <tr>\n",
       "      <th>CN</th>\n",
       "      <td>115</td>\n",
       "    </tr>\n",
       "    <tr>\n",
       "      <th>HT</th>\n",
       "      <td>13</td>\n",
       "    </tr>\n",
       "    <tr>\n",
       "      <th>IN</th>\n",
       "      <td>15</td>\n",
       "    </tr>\n",
       "    <tr>\n",
       "      <th>KR</th>\n",
       "      <td>12</td>\n",
       "    </tr>\n",
       "    <tr>\n",
       "      <th>MX</th>\n",
       "      <td>444</td>\n",
       "    </tr>\n",
       "    <tr>\n",
       "      <th>PH</th>\n",
       "      <td>46</td>\n",
       "    </tr>\n",
       "    <tr>\n",
       "      <th>SV</th>\n",
       "      <td>11</td>\n",
       "    </tr>\n",
       "    <tr>\n",
       "      <th>US</th>\n",
       "      <td>4159</td>\n",
       "    </tr>\n",
       "    <tr>\n",
       "      <th>ZZ</th>\n",
       "      <td>12141</td>\n",
       "    </tr>\n",
       "  </tbody>\n",
       "</table>\n",
       "</div>"
      ],
      "text/plain": [
       "             Citizen_counts\n",
       "citizenship                \n",
       "CN                      115\n",
       "HT                       13\n",
       "IN                       15\n",
       "KR                       12\n",
       "MX                      444\n",
       "PH                       46\n",
       "SV                       11\n",
       "US                     4159\n",
       "ZZ                    12141"
      ]
     },
     "execution_count": 13,
     "metadata": {},
     "output_type": "execute_result"
    }
   ],
   "source": [
    "df_US_sum"
   ]
  },
  {
   "cell_type": "code",
   "execution_count": 14,
   "metadata": {},
   "outputs": [
    {
     "data": {
      "text/plain": [
       "(9, 1)"
      ]
     },
     "execution_count": 14,
     "metadata": {},
     "output_type": "execute_result"
    }
   ],
   "source": [
    "df_US_sum.shape"
   ]
  },
  {
   "cell_type": "code",
   "execution_count": 15,
   "metadata": {},
   "outputs": [],
   "source": [
    "## calculate each country of origin's % of all reported trafficking cases in US\n",
    "\n",
    "df_US_sum['trafficking_US_pcnt'] = df_US_sum['Citizen_counts']/sum(df_US_sum['Citizen_counts'])"
   ]
  },
  {
   "cell_type": "code",
   "execution_count": 16,
   "metadata": {},
   "outputs": [],
   "source": [
    "## calculate each country of origin's % of all reported trafficking cases in US (with citizenship known/indicated)\n",
    "\n",
    "df_US_sum['trafficking_US_known_country_pcnt'] = df_US_sum['Citizen_counts']/  ( (sum(df_US_sum['Citizen_counts']))  - 12141)"
   ]
  },
  {
   "cell_type": "code",
   "execution_count": 17,
   "metadata": {
    "scrolled": true
   },
   "outputs": [
    {
     "data": {
      "text/html": [
       "<div>\n",
       "<style scoped>\n",
       "    .dataframe tbody tr th:only-of-type {\n",
       "        vertical-align: middle;\n",
       "    }\n",
       "\n",
       "    .dataframe tbody tr th {\n",
       "        vertical-align: top;\n",
       "    }\n",
       "\n",
       "    .dataframe thead th {\n",
       "        text-align: right;\n",
       "    }\n",
       "</style>\n",
       "<table border=\"1\" class=\"dataframe\">\n",
       "  <thead>\n",
       "    <tr style=\"text-align: right;\">\n",
       "      <th></th>\n",
       "      <th>Citizen_counts</th>\n",
       "      <th>trafficking_US_pcnt</th>\n",
       "      <th>trafficking_US_known_country_pcnt</th>\n",
       "    </tr>\n",
       "    <tr>\n",
       "      <th>citizenship</th>\n",
       "      <th></th>\n",
       "      <th></th>\n",
       "      <th></th>\n",
       "    </tr>\n",
       "  </thead>\n",
       "  <tbody>\n",
       "    <tr>\n",
       "      <th>CN</th>\n",
       "      <td>115</td>\n",
       "      <td>0.006782</td>\n",
       "      <td>0.023884</td>\n",
       "    </tr>\n",
       "    <tr>\n",
       "      <th>HT</th>\n",
       "      <td>13</td>\n",
       "      <td>0.000767</td>\n",
       "      <td>0.002700</td>\n",
       "    </tr>\n",
       "    <tr>\n",
       "      <th>IN</th>\n",
       "      <td>15</td>\n",
       "      <td>0.000885</td>\n",
       "      <td>0.003115</td>\n",
       "    </tr>\n",
       "    <tr>\n",
       "      <th>KR</th>\n",
       "      <td>12</td>\n",
       "      <td>0.000708</td>\n",
       "      <td>0.002492</td>\n",
       "    </tr>\n",
       "    <tr>\n",
       "      <th>MX</th>\n",
       "      <td>444</td>\n",
       "      <td>0.026185</td>\n",
       "      <td>0.092212</td>\n",
       "    </tr>\n",
       "  </tbody>\n",
       "</table>\n",
       "</div>"
      ],
      "text/plain": [
       "             Citizen_counts  trafficking_US_pcnt  \\\n",
       "citizenship                                        \n",
       "CN                      115             0.006782   \n",
       "HT                       13             0.000767   \n",
       "IN                       15             0.000885   \n",
       "KR                       12             0.000708   \n",
       "MX                      444             0.026185   \n",
       "\n",
       "             trafficking_US_known_country_pcnt  \n",
       "citizenship                                     \n",
       "CN                                    0.023884  \n",
       "HT                                    0.002700  \n",
       "IN                                    0.003115  \n",
       "KR                                    0.002492  \n",
       "MX                                    0.092212  "
      ]
     },
     "execution_count": 17,
     "metadata": {},
     "output_type": "execute_result"
    }
   ],
   "source": [
    "df_US_sum.head()"
   ]
  },
  {
   "cell_type": "code",
   "execution_count": 18,
   "metadata": {},
   "outputs": [],
   "source": [
    "df_US_sum = df_US_sum.reset_index()"
   ]
  },
  {
   "cell_type": "code",
   "execution_count": 19,
   "metadata": {
    "scrolled": true
   },
   "outputs": [
    {
     "data": {
      "text/html": [
       "<div>\n",
       "<style scoped>\n",
       "    .dataframe tbody tr th:only-of-type {\n",
       "        vertical-align: middle;\n",
       "    }\n",
       "\n",
       "    .dataframe tbody tr th {\n",
       "        vertical-align: top;\n",
       "    }\n",
       "\n",
       "    .dataframe thead th {\n",
       "        text-align: right;\n",
       "    }\n",
       "</style>\n",
       "<table border=\"1\" class=\"dataframe\">\n",
       "  <thead>\n",
       "    <tr style=\"text-align: right;\">\n",
       "      <th></th>\n",
       "      <th>citizenship</th>\n",
       "      <th>Citizen_counts</th>\n",
       "      <th>trafficking_US_pcnt</th>\n",
       "      <th>trafficking_US_known_country_pcnt</th>\n",
       "    </tr>\n",
       "  </thead>\n",
       "  <tbody>\n",
       "    <tr>\n",
       "      <th>0</th>\n",
       "      <td>CN</td>\n",
       "      <td>115</td>\n",
       "      <td>0.006782</td>\n",
       "      <td>0.023884</td>\n",
       "    </tr>\n",
       "    <tr>\n",
       "      <th>1</th>\n",
       "      <td>HT</td>\n",
       "      <td>13</td>\n",
       "      <td>0.000767</td>\n",
       "      <td>0.002700</td>\n",
       "    </tr>\n",
       "    <tr>\n",
       "      <th>2</th>\n",
       "      <td>IN</td>\n",
       "      <td>15</td>\n",
       "      <td>0.000885</td>\n",
       "      <td>0.003115</td>\n",
       "    </tr>\n",
       "    <tr>\n",
       "      <th>3</th>\n",
       "      <td>KR</td>\n",
       "      <td>12</td>\n",
       "      <td>0.000708</td>\n",
       "      <td>0.002492</td>\n",
       "    </tr>\n",
       "    <tr>\n",
       "      <th>4</th>\n",
       "      <td>MX</td>\n",
       "      <td>444</td>\n",
       "      <td>0.026185</td>\n",
       "      <td>0.092212</td>\n",
       "    </tr>\n",
       "  </tbody>\n",
       "</table>\n",
       "</div>"
      ],
      "text/plain": [
       "  citizenship  Citizen_counts  trafficking_US_pcnt  \\\n",
       "0          CN             115             0.006782   \n",
       "1          HT              13             0.000767   \n",
       "2          IN              15             0.000885   \n",
       "3          KR              12             0.000708   \n",
       "4          MX             444             0.026185   \n",
       "\n",
       "   trafficking_US_known_country_pcnt  \n",
       "0                           0.023884  \n",
       "1                           0.002700  \n",
       "2                           0.003115  \n",
       "3                           0.002492  \n",
       "4                           0.092212  "
      ]
     },
     "execution_count": 19,
     "metadata": {},
     "output_type": "execute_result"
    }
   ],
   "source": [
    "df_US_sum.head()"
   ]
  },
  {
   "cell_type": "code",
   "execution_count": 20,
   "metadata": {
    "scrolled": true
   },
   "outputs": [],
   "source": [
    "## add a country code lookup\n",
    "\n",
    "df_country = pd.read_csv('./../datasets/country_codes.csv')"
   ]
  },
  {
   "cell_type": "code",
   "execution_count": 21,
   "metadata": {},
   "outputs": [],
   "source": [
    "df_US_traffick = pd.merge(left = df_US_sum, right = df_country, left_on = df_US_sum['citizenship'], right_on = df_country['country_code'], how = 'outer')"
   ]
  },
  {
   "cell_type": "code",
   "execution_count": 22,
   "metadata": {},
   "outputs": [
    {
     "data": {
      "text/html": [
       "<div>\n",
       "<style scoped>\n",
       "    .dataframe tbody tr th:only-of-type {\n",
       "        vertical-align: middle;\n",
       "    }\n",
       "\n",
       "    .dataframe tbody tr th {\n",
       "        vertical-align: top;\n",
       "    }\n",
       "\n",
       "    .dataframe thead th {\n",
       "        text-align: right;\n",
       "    }\n",
       "</style>\n",
       "<table border=\"1\" class=\"dataframe\">\n",
       "  <thead>\n",
       "    <tr style=\"text-align: right;\">\n",
       "      <th></th>\n",
       "      <th>key_0</th>\n",
       "      <th>citizenship</th>\n",
       "      <th>Citizen_counts</th>\n",
       "      <th>trafficking_US_pcnt</th>\n",
       "      <th>trafficking_US_known_country_pcnt</th>\n",
       "      <th>country_code</th>\n",
       "      <th>country</th>\n",
       "      <th>country_code.1</th>\n",
       "    </tr>\n",
       "  </thead>\n",
       "  <tbody>\n",
       "    <tr>\n",
       "      <th>0</th>\n",
       "      <td>CN</td>\n",
       "      <td>CN</td>\n",
       "      <td>115.0</td>\n",
       "      <td>0.006782</td>\n",
       "      <td>0.023884</td>\n",
       "      <td>CN</td>\n",
       "      <td>China</td>\n",
       "      <td>CN</td>\n",
       "    </tr>\n",
       "    <tr>\n",
       "      <th>1</th>\n",
       "      <td>HT</td>\n",
       "      <td>HT</td>\n",
       "      <td>13.0</td>\n",
       "      <td>0.000767</td>\n",
       "      <td>0.002700</td>\n",
       "      <td>HT</td>\n",
       "      <td>Haiti</td>\n",
       "      <td>HT</td>\n",
       "    </tr>\n",
       "    <tr>\n",
       "      <th>2</th>\n",
       "      <td>IN</td>\n",
       "      <td>IN</td>\n",
       "      <td>15.0</td>\n",
       "      <td>0.000885</td>\n",
       "      <td>0.003115</td>\n",
       "      <td>IN</td>\n",
       "      <td>India</td>\n",
       "      <td>IN</td>\n",
       "    </tr>\n",
       "    <tr>\n",
       "      <th>3</th>\n",
       "      <td>KR</td>\n",
       "      <td>KR</td>\n",
       "      <td>12.0</td>\n",
       "      <td>0.000708</td>\n",
       "      <td>0.002492</td>\n",
       "      <td>KR</td>\n",
       "      <td>Korea, Republic of</td>\n",
       "      <td>KR</td>\n",
       "    </tr>\n",
       "    <tr>\n",
       "      <th>4</th>\n",
       "      <td>MX</td>\n",
       "      <td>MX</td>\n",
       "      <td>444.0</td>\n",
       "      <td>0.026185</td>\n",
       "      <td>0.092212</td>\n",
       "      <td>MX</td>\n",
       "      <td>Mexico</td>\n",
       "      <td>MX</td>\n",
       "    </tr>\n",
       "  </tbody>\n",
       "</table>\n",
       "</div>"
      ],
      "text/plain": [
       "  key_0 citizenship  Citizen_counts  trafficking_US_pcnt  \\\n",
       "0    CN          CN           115.0             0.006782   \n",
       "1    HT          HT            13.0             0.000767   \n",
       "2    IN          IN            15.0             0.000885   \n",
       "3    KR          KR            12.0             0.000708   \n",
       "4    MX          MX           444.0             0.026185   \n",
       "\n",
       "   trafficking_US_known_country_pcnt country_code             country  \\\n",
       "0                           0.023884           CN               China   \n",
       "1                           0.002700           HT               Haiti   \n",
       "2                           0.003115           IN               India   \n",
       "3                           0.002492           KR  Korea, Republic of   \n",
       "4                           0.092212           MX              Mexico   \n",
       "\n",
       "  country_code.1  \n",
       "0             CN  \n",
       "1             HT  \n",
       "2             IN  \n",
       "3             KR  \n",
       "4             MX  "
      ]
     },
     "execution_count": 22,
     "metadata": {},
     "output_type": "execute_result"
    }
   ],
   "source": [
    "df_US_traffick.head()"
   ]
  },
  {
   "cell_type": "code",
   "execution_count": 23,
   "metadata": {},
   "outputs": [
    {
     "data": {
      "text/html": [
       "<div>\n",
       "<style scoped>\n",
       "    .dataframe tbody tr th:only-of-type {\n",
       "        vertical-align: middle;\n",
       "    }\n",
       "\n",
       "    .dataframe tbody tr th {\n",
       "        vertical-align: top;\n",
       "    }\n",
       "\n",
       "    .dataframe thead th {\n",
       "        text-align: right;\n",
       "    }\n",
       "</style>\n",
       "<table border=\"1\" class=\"dataframe\">\n",
       "  <thead>\n",
       "    <tr style=\"text-align: right;\">\n",
       "      <th></th>\n",
       "      <th>citizenship</th>\n",
       "      <th>Citizen_counts</th>\n",
       "      <th>trafficking_US_pcnt</th>\n",
       "      <th>trafficking_US_known_country_pcnt</th>\n",
       "      <th>country_code</th>\n",
       "      <th>country</th>\n",
       "    </tr>\n",
       "  </thead>\n",
       "  <tbody>\n",
       "    <tr>\n",
       "      <th>0</th>\n",
       "      <td>CN</td>\n",
       "      <td>115.0</td>\n",
       "      <td>0.006782</td>\n",
       "      <td>0.023884</td>\n",
       "      <td>CN</td>\n",
       "      <td>China</td>\n",
       "    </tr>\n",
       "    <tr>\n",
       "      <th>1</th>\n",
       "      <td>HT</td>\n",
       "      <td>13.0</td>\n",
       "      <td>0.000767</td>\n",
       "      <td>0.002700</td>\n",
       "      <td>HT</td>\n",
       "      <td>Haiti</td>\n",
       "    </tr>\n",
       "    <tr>\n",
       "      <th>2</th>\n",
       "      <td>IN</td>\n",
       "      <td>15.0</td>\n",
       "      <td>0.000885</td>\n",
       "      <td>0.003115</td>\n",
       "      <td>IN</td>\n",
       "      <td>India</td>\n",
       "    </tr>\n",
       "    <tr>\n",
       "      <th>3</th>\n",
       "      <td>KR</td>\n",
       "      <td>12.0</td>\n",
       "      <td>0.000708</td>\n",
       "      <td>0.002492</td>\n",
       "      <td>KR</td>\n",
       "      <td>Korea, Republic of</td>\n",
       "    </tr>\n",
       "    <tr>\n",
       "      <th>4</th>\n",
       "      <td>MX</td>\n",
       "      <td>444.0</td>\n",
       "      <td>0.026185</td>\n",
       "      <td>0.092212</td>\n",
       "      <td>MX</td>\n",
       "      <td>Mexico</td>\n",
       "    </tr>\n",
       "  </tbody>\n",
       "</table>\n",
       "</div>"
      ],
      "text/plain": [
       "  citizenship  Citizen_counts  trafficking_US_pcnt  \\\n",
       "0          CN           115.0             0.006782   \n",
       "1          HT            13.0             0.000767   \n",
       "2          IN            15.0             0.000885   \n",
       "3          KR            12.0             0.000708   \n",
       "4          MX           444.0             0.026185   \n",
       "\n",
       "   trafficking_US_known_country_pcnt country_code             country  \n",
       "0                           0.023884           CN               China  \n",
       "1                           0.002700           HT               Haiti  \n",
       "2                           0.003115           IN               India  \n",
       "3                           0.002492           KR  Korea, Republic of  \n",
       "4                           0.092212           MX              Mexico  "
      ]
     },
     "execution_count": 23,
     "metadata": {},
     "output_type": "execute_result"
    }
   ],
   "source": [
    "df_US_traffick.drop(['key_0', 'country_code.1'], axis=1).head()"
   ]
  },
  {
   "cell_type": "code",
   "execution_count": 24,
   "metadata": {},
   "outputs": [],
   "source": [
    "df_US_traffick.to_csv('./../datasets/US_trafficking_sums-2015-2017.csv')"
   ]
  },
  {
   "cell_type": "markdown",
   "metadata": {},
   "source": [
    "### BRING IN ILLEGAL ALIENS DATASET"
   ]
  },
  {
   "cell_type": "code",
   "execution_count": 25,
   "metadata": {},
   "outputs": [
    {
     "name": "stderr",
     "output_type": "stream",
     "text": [
      "C:\\Users\\ekvtjdx\\AppData\\Local\\Continuum\\anaconda3\\lib\\site-packages\\ipykernel_launcher.py:1: ParserWarning: Falling back to the 'python' engine because the 'c' engine does not support regex separators (separators > 1 char and different from '\\s+' are interpreted as regex); you can avoid this warning by specifying engine='python'.\n",
      "  \"\"\"Entry point for launching an IPython kernel.\n"
     ]
    }
   ],
   "source": [
    "df_ill = pd.read_csv('./../datasets/Illegal aliens in US - dhs.gov.csv', sep='\\s*,\\s*')"
   ]
  },
  {
   "cell_type": "code",
   "execution_count": 26,
   "metadata": {},
   "outputs": [
    {
     "data": {
      "text/html": [
       "<div>\n",
       "<style scoped>\n",
       "    .dataframe tbody tr th:only-of-type {\n",
       "        vertical-align: middle;\n",
       "    }\n",
       "\n",
       "    .dataframe tbody tr th {\n",
       "        vertical-align: top;\n",
       "    }\n",
       "\n",
       "    .dataframe thead th {\n",
       "        text-align: right;\n",
       "    }\n",
       "</style>\n",
       "<table border=\"1\" class=\"dataframe\">\n",
       "  <thead>\n",
       "    <tr style=\"text-align: right;\">\n",
       "      <th></th>\n",
       "      <th>Country</th>\n",
       "      <th>country_code</th>\n",
       "      <th>Illegal aliens in US - mill (2015)</th>\n",
       "      <th>% of US Illegal aliens (2015)</th>\n",
       "    </tr>\n",
       "  </thead>\n",
       "  <tbody>\n",
       "    <tr>\n",
       "      <th>0</th>\n",
       "      <td>Mexico</td>\n",
       "      <td>MX</td>\n",
       "      <td>6.58</td>\n",
       "      <td>55.0</td>\n",
       "    </tr>\n",
       "    <tr>\n",
       "      <th>1</th>\n",
       "      <td>El Salvador</td>\n",
       "      <td>SV</td>\n",
       "      <td>0.75</td>\n",
       "      <td>6.3</td>\n",
       "    </tr>\n",
       "    <tr>\n",
       "      <th>2</th>\n",
       "      <td>Guatemala</td>\n",
       "      <td>GT</td>\n",
       "      <td>0.62</td>\n",
       "      <td>5.2</td>\n",
       "    </tr>\n",
       "    <tr>\n",
       "      <th>3</th>\n",
       "      <td>India</td>\n",
       "      <td>IN</td>\n",
       "      <td>0.47</td>\n",
       "      <td>3.9</td>\n",
       "    </tr>\n",
       "    <tr>\n",
       "      <th>4</th>\n",
       "      <td>Honduras</td>\n",
       "      <td>HN</td>\n",
       "      <td>0.44</td>\n",
       "      <td>3.7</td>\n",
       "    </tr>\n",
       "  </tbody>\n",
       "</table>\n",
       "</div>"
      ],
      "text/plain": [
       "       Country country_code  Illegal aliens in US - mill (2015)  \\\n",
       "0       Mexico           MX                                6.58   \n",
       "1  El Salvador           SV                                0.75   \n",
       "2    Guatemala           GT                                0.62   \n",
       "3        India           IN                                0.47   \n",
       "4     Honduras           HN                                0.44   \n",
       "\n",
       "   % of US Illegal aliens (2015)  \n",
       "0                           55.0  \n",
       "1                            6.3  \n",
       "2                            5.2  \n",
       "3                            3.9  \n",
       "4                            3.7  "
      ]
     },
     "execution_count": 26,
     "metadata": {},
     "output_type": "execute_result"
    }
   ],
   "source": [
    "df_ill.head()"
   ]
  },
  {
   "cell_type": "code",
   "execution_count": 27,
   "metadata": {},
   "outputs": [],
   "source": [
    "df_ill['illeg_US_pcnt'] = df_ill['% of US Illegal aliens (2015)']*.01"
   ]
  },
  {
   "cell_type": "code",
   "execution_count": 28,
   "metadata": {},
   "outputs": [
    {
     "data": {
      "text/html": [
       "<div>\n",
       "<style scoped>\n",
       "    .dataframe tbody tr th:only-of-type {\n",
       "        vertical-align: middle;\n",
       "    }\n",
       "\n",
       "    .dataframe tbody tr th {\n",
       "        vertical-align: top;\n",
       "    }\n",
       "\n",
       "    .dataframe thead th {\n",
       "        text-align: right;\n",
       "    }\n",
       "</style>\n",
       "<table border=\"1\" class=\"dataframe\">\n",
       "  <thead>\n",
       "    <tr style=\"text-align: right;\">\n",
       "      <th></th>\n",
       "      <th>Country</th>\n",
       "      <th>country_code</th>\n",
       "      <th>Illegal aliens in US - mill (2015)</th>\n",
       "      <th>% of US Illegal aliens (2015)</th>\n",
       "      <th>illeg_US_pcnt</th>\n",
       "    </tr>\n",
       "  </thead>\n",
       "  <tbody>\n",
       "    <tr>\n",
       "      <th>0</th>\n",
       "      <td>Mexico</td>\n",
       "      <td>MX</td>\n",
       "      <td>6.58</td>\n",
       "      <td>55.0</td>\n",
       "      <td>0.550</td>\n",
       "    </tr>\n",
       "    <tr>\n",
       "      <th>1</th>\n",
       "      <td>El Salvador</td>\n",
       "      <td>SV</td>\n",
       "      <td>0.75</td>\n",
       "      <td>6.3</td>\n",
       "      <td>0.063</td>\n",
       "    </tr>\n",
       "    <tr>\n",
       "      <th>2</th>\n",
       "      <td>Guatemala</td>\n",
       "      <td>GT</td>\n",
       "      <td>0.62</td>\n",
       "      <td>5.2</td>\n",
       "      <td>0.052</td>\n",
       "    </tr>\n",
       "    <tr>\n",
       "      <th>3</th>\n",
       "      <td>India</td>\n",
       "      <td>IN</td>\n",
       "      <td>0.47</td>\n",
       "      <td>3.9</td>\n",
       "      <td>0.039</td>\n",
       "    </tr>\n",
       "    <tr>\n",
       "      <th>4</th>\n",
       "      <td>Honduras</td>\n",
       "      <td>HN</td>\n",
       "      <td>0.44</td>\n",
       "      <td>3.7</td>\n",
       "      <td>0.037</td>\n",
       "    </tr>\n",
       "  </tbody>\n",
       "</table>\n",
       "</div>"
      ],
      "text/plain": [
       "       Country country_code  Illegal aliens in US - mill (2015)  \\\n",
       "0       Mexico           MX                                6.58   \n",
       "1  El Salvador           SV                                0.75   \n",
       "2    Guatemala           GT                                0.62   \n",
       "3        India           IN                                0.47   \n",
       "4     Honduras           HN                                0.44   \n",
       "\n",
       "   % of US Illegal aliens (2015)  illeg_US_pcnt  \n",
       "0                           55.0          0.550  \n",
       "1                            6.3          0.063  \n",
       "2                            5.2          0.052  \n",
       "3                            3.9          0.039  \n",
       "4                            3.7          0.037  "
      ]
     },
     "execution_count": 28,
     "metadata": {},
     "output_type": "execute_result"
    }
   ],
   "source": [
    "df_ill.head()"
   ]
  },
  {
   "cell_type": "code",
   "execution_count": 29,
   "metadata": {},
   "outputs": [],
   "source": [
    "## MERGE US TRAFFICKING DATASET WITH ILLEGAL ALIENS DATASET\n",
    "\n",
    "df_combo = pd.merge(left = df_US_sum, right = df_ill, left_on = df_US_sum['citizenship'], right_on = df_ill['country_code'], how = 'outer')"
   ]
  },
  {
   "cell_type": "code",
   "execution_count": 30,
   "metadata": {},
   "outputs": [
    {
     "data": {
      "text/html": [
       "<div>\n",
       "<style scoped>\n",
       "    .dataframe tbody tr th:only-of-type {\n",
       "        vertical-align: middle;\n",
       "    }\n",
       "\n",
       "    .dataframe tbody tr th {\n",
       "        vertical-align: top;\n",
       "    }\n",
       "\n",
       "    .dataframe thead th {\n",
       "        text-align: right;\n",
       "    }\n",
       "</style>\n",
       "<table border=\"1\" class=\"dataframe\">\n",
       "  <thead>\n",
       "    <tr style=\"text-align: right;\">\n",
       "      <th></th>\n",
       "      <th>key_0</th>\n",
       "      <th>citizenship</th>\n",
       "      <th>Citizen_counts</th>\n",
       "      <th>trafficking_US_pcnt</th>\n",
       "      <th>trafficking_US_known_country_pcnt</th>\n",
       "      <th>Country</th>\n",
       "      <th>country_code</th>\n",
       "      <th>Illegal aliens in US - mill (2015)</th>\n",
       "      <th>% of US Illegal aliens (2015)</th>\n",
       "      <th>illeg_US_pcnt</th>\n",
       "    </tr>\n",
       "  </thead>\n",
       "  <tbody>\n",
       "    <tr>\n",
       "      <th>0</th>\n",
       "      <td>CN</td>\n",
       "      <td>CN</td>\n",
       "      <td>115.0</td>\n",
       "      <td>0.006782</td>\n",
       "      <td>0.023884</td>\n",
       "      <td>China</td>\n",
       "      <td>CN</td>\n",
       "      <td>0.32</td>\n",
       "      <td>2.7</td>\n",
       "      <td>0.027</td>\n",
       "    </tr>\n",
       "    <tr>\n",
       "      <th>1</th>\n",
       "      <td>HT</td>\n",
       "      <td>HT</td>\n",
       "      <td>13.0</td>\n",
       "      <td>0.000767</td>\n",
       "      <td>0.002700</td>\n",
       "      <td>NaN</td>\n",
       "      <td>NaN</td>\n",
       "      <td>NaN</td>\n",
       "      <td>NaN</td>\n",
       "      <td>NaN</td>\n",
       "    </tr>\n",
       "    <tr>\n",
       "      <th>2</th>\n",
       "      <td>IN</td>\n",
       "      <td>IN</td>\n",
       "      <td>15.0</td>\n",
       "      <td>0.000885</td>\n",
       "      <td>0.003115</td>\n",
       "      <td>India</td>\n",
       "      <td>IN</td>\n",
       "      <td>0.47</td>\n",
       "      <td>3.9</td>\n",
       "      <td>0.039</td>\n",
       "    </tr>\n",
       "    <tr>\n",
       "      <th>3</th>\n",
       "      <td>KR</td>\n",
       "      <td>KR</td>\n",
       "      <td>12.0</td>\n",
       "      <td>0.000708</td>\n",
       "      <td>0.002492</td>\n",
       "      <td>Korea</td>\n",
       "      <td>KR</td>\n",
       "      <td>0.23</td>\n",
       "      <td>1.9</td>\n",
       "      <td>0.019</td>\n",
       "    </tr>\n",
       "    <tr>\n",
       "      <th>4</th>\n",
       "      <td>MX</td>\n",
       "      <td>MX</td>\n",
       "      <td>444.0</td>\n",
       "      <td>0.026185</td>\n",
       "      <td>0.092212</td>\n",
       "      <td>Mexico</td>\n",
       "      <td>MX</td>\n",
       "      <td>6.58</td>\n",
       "      <td>55.0</td>\n",
       "      <td>0.550</td>\n",
       "    </tr>\n",
       "  </tbody>\n",
       "</table>\n",
       "</div>"
      ],
      "text/plain": [
       "  key_0 citizenship  Citizen_counts  trafficking_US_pcnt  \\\n",
       "0    CN          CN           115.0             0.006782   \n",
       "1    HT          HT            13.0             0.000767   \n",
       "2    IN          IN            15.0             0.000885   \n",
       "3    KR          KR            12.0             0.000708   \n",
       "4    MX          MX           444.0             0.026185   \n",
       "\n",
       "   trafficking_US_known_country_pcnt Country country_code  \\\n",
       "0                           0.023884   China           CN   \n",
       "1                           0.002700     NaN          NaN   \n",
       "2                           0.003115   India           IN   \n",
       "3                           0.002492   Korea           KR   \n",
       "4                           0.092212  Mexico           MX   \n",
       "\n",
       "   Illegal aliens in US - mill (2015)  % of US Illegal aliens (2015)  \\\n",
       "0                                0.32                            2.7   \n",
       "1                                 NaN                            NaN   \n",
       "2                                0.47                            3.9   \n",
       "3                                0.23                            1.9   \n",
       "4                                6.58                           55.0   \n",
       "\n",
       "   illeg_US_pcnt  \n",
       "0          0.027  \n",
       "1            NaN  \n",
       "2          0.039  \n",
       "3          0.019  \n",
       "4          0.550  "
      ]
     },
     "execution_count": 30,
     "metadata": {},
     "output_type": "execute_result"
    }
   ],
   "source": [
    "df_combo.head()"
   ]
  },
  {
   "cell_type": "code",
   "execution_count": 31,
   "metadata": {},
   "outputs": [],
   "source": [
    "df_combo.drop('key_0', axis =1, inplace=True)"
   ]
  },
  {
   "cell_type": "markdown",
   "metadata": {},
   "source": [
    "### BRING IN POVERTY DATASET"
   ]
  },
  {
   "cell_type": "code",
   "execution_count": 32,
   "metadata": {},
   "outputs": [],
   "source": [
    "df_pov = pd.read_csv('./../datasets/number_of_people_in_poverty.csv', low_memory=False)"
   ]
  },
  {
   "cell_type": "code",
   "execution_count": 33,
   "metadata": {},
   "outputs": [],
   "source": [
    "df_pov['pov_in_mill'] = df_pov['2010']"
   ]
  },
  {
   "cell_type": "code",
   "execution_count": 34,
   "metadata": {},
   "outputs": [],
   "source": [
    "df_pov = df_pov[['country','pov_in_mill']]"
   ]
  },
  {
   "cell_type": "code",
   "execution_count": 35,
   "metadata": {},
   "outputs": [
    {
     "data": {
      "text/html": [
       "<div>\n",
       "<style scoped>\n",
       "    .dataframe tbody tr th:only-of-type {\n",
       "        vertical-align: middle;\n",
       "    }\n",
       "\n",
       "    .dataframe tbody tr th {\n",
       "        vertical-align: top;\n",
       "    }\n",
       "\n",
       "    .dataframe thead th {\n",
       "        text-align: right;\n",
       "    }\n",
       "</style>\n",
       "<table border=\"1\" class=\"dataframe\">\n",
       "  <thead>\n",
       "    <tr style=\"text-align: right;\">\n",
       "      <th></th>\n",
       "      <th>country</th>\n",
       "      <th>pov_in_mill</th>\n",
       "    </tr>\n",
       "  </thead>\n",
       "  <tbody>\n",
       "    <tr>\n",
       "      <th>0</th>\n",
       "      <td>Albania</td>\n",
       "      <td>NaN</td>\n",
       "    </tr>\n",
       "    <tr>\n",
       "      <th>1</th>\n",
       "      <td>Algeria</td>\n",
       "      <td>NaN</td>\n",
       "    </tr>\n",
       "    <tr>\n",
       "      <th>2</th>\n",
       "      <td>Angola</td>\n",
       "      <td>NaN</td>\n",
       "    </tr>\n",
       "    <tr>\n",
       "      <th>3</th>\n",
       "      <td>Argentina</td>\n",
       "      <td>0.6990</td>\n",
       "    </tr>\n",
       "    <tr>\n",
       "      <th>4</th>\n",
       "      <td>Armenia</td>\n",
       "      <td>0.0741</td>\n",
       "    </tr>\n",
       "  </tbody>\n",
       "</table>\n",
       "</div>"
      ],
      "text/plain": [
       "     country  pov_in_mill\n",
       "0    Albania          NaN\n",
       "1    Algeria          NaN\n",
       "2     Angola          NaN\n",
       "3  Argentina       0.6990\n",
       "4    Armenia       0.0741"
      ]
     },
     "execution_count": 35,
     "metadata": {},
     "output_type": "execute_result"
    }
   ],
   "source": [
    "df_pov.head()"
   ]
  },
  {
   "cell_type": "markdown",
   "metadata": {},
   "source": [
    "### BRING IN POPULATION DATASET"
   ]
  },
  {
   "cell_type": "code",
   "execution_count": 36,
   "metadata": {},
   "outputs": [],
   "source": [
    "df_pop = pd.read_csv('./../datasets/population_total.csv', low_memory=False)"
   ]
  },
  {
   "cell_type": "code",
   "execution_count": 37,
   "metadata": {},
   "outputs": [],
   "source": [
    "df_pop['pop-2015'] = df_pop['2015']"
   ]
  },
  {
   "cell_type": "code",
   "execution_count": 38,
   "metadata": {},
   "outputs": [],
   "source": [
    "df_pop = df_pop[['country','pop-2015']]"
   ]
  },
  {
   "cell_type": "code",
   "execution_count": 39,
   "metadata": {},
   "outputs": [],
   "source": [
    "df_pop['pop-mill-2015'] = df_pop['pop-2015']/1000000"
   ]
  },
  {
   "cell_type": "code",
   "execution_count": 40,
   "metadata": {},
   "outputs": [
    {
     "data": {
      "text/html": [
       "<div>\n",
       "<style scoped>\n",
       "    .dataframe tbody tr th:only-of-type {\n",
       "        vertical-align: middle;\n",
       "    }\n",
       "\n",
       "    .dataframe tbody tr th {\n",
       "        vertical-align: top;\n",
       "    }\n",
       "\n",
       "    .dataframe thead th {\n",
       "        text-align: right;\n",
       "    }\n",
       "</style>\n",
       "<table border=\"1\" class=\"dataframe\">\n",
       "  <thead>\n",
       "    <tr style=\"text-align: right;\">\n",
       "      <th></th>\n",
       "      <th>country</th>\n",
       "      <th>pop-2015</th>\n",
       "      <th>pop-mill-2015</th>\n",
       "    </tr>\n",
       "  </thead>\n",
       "  <tbody>\n",
       "    <tr>\n",
       "      <th>0</th>\n",
       "      <td>Afghanistan</td>\n",
       "      <td>33700000</td>\n",
       "      <td>33.700</td>\n",
       "    </tr>\n",
       "    <tr>\n",
       "      <th>1</th>\n",
       "      <td>Albania</td>\n",
       "      <td>2920000</td>\n",
       "      <td>2.920</td>\n",
       "    </tr>\n",
       "    <tr>\n",
       "      <th>2</th>\n",
       "      <td>Algeria</td>\n",
       "      <td>39900000</td>\n",
       "      <td>39.900</td>\n",
       "    </tr>\n",
       "    <tr>\n",
       "      <th>3</th>\n",
       "      <td>Andorra</td>\n",
       "      <td>78000</td>\n",
       "      <td>0.078</td>\n",
       "    </tr>\n",
       "    <tr>\n",
       "      <th>4</th>\n",
       "      <td>Angola</td>\n",
       "      <td>27900000</td>\n",
       "      <td>27.900</td>\n",
       "    </tr>\n",
       "  </tbody>\n",
       "</table>\n",
       "</div>"
      ],
      "text/plain": [
       "       country  pop-2015  pop-mill-2015\n",
       "0  Afghanistan  33700000         33.700\n",
       "1      Albania   2920000          2.920\n",
       "2      Algeria  39900000         39.900\n",
       "3      Andorra     78000          0.078\n",
       "4       Angola  27900000         27.900"
      ]
     },
     "execution_count": 40,
     "metadata": {},
     "output_type": "execute_result"
    }
   ],
   "source": [
    "df_pop.head()"
   ]
  },
  {
   "cell_type": "code",
   "execution_count": 41,
   "metadata": {},
   "outputs": [],
   "source": [
    "## MERGE POVERTY DATASET WITH POPULATION DATASET - to get percent of population in poverty\n",
    "\n",
    "df_pov = pd.merge(left = df_pov, right = df_pop, left_on = df_pov['country'], right_on = df_pop['country'], how = 'outer')"
   ]
  },
  {
   "cell_type": "code",
   "execution_count": 42,
   "metadata": {},
   "outputs": [
    {
     "data": {
      "text/html": [
       "<div>\n",
       "<style scoped>\n",
       "    .dataframe tbody tr th:only-of-type {\n",
       "        vertical-align: middle;\n",
       "    }\n",
       "\n",
       "    .dataframe tbody tr th {\n",
       "        vertical-align: top;\n",
       "    }\n",
       "\n",
       "    .dataframe thead th {\n",
       "        text-align: right;\n",
       "    }\n",
       "</style>\n",
       "<table border=\"1\" class=\"dataframe\">\n",
       "  <thead>\n",
       "    <tr style=\"text-align: right;\">\n",
       "      <th></th>\n",
       "      <th>key_0</th>\n",
       "      <th>country_x</th>\n",
       "      <th>pov_in_mill</th>\n",
       "      <th>country_y</th>\n",
       "      <th>pop-2015</th>\n",
       "      <th>pop-mill-2015</th>\n",
       "    </tr>\n",
       "  </thead>\n",
       "  <tbody>\n",
       "    <tr>\n",
       "      <th>0</th>\n",
       "      <td>Albania</td>\n",
       "      <td>Albania</td>\n",
       "      <td>NaN</td>\n",
       "      <td>Albania</td>\n",
       "      <td>2920000</td>\n",
       "      <td>2.92</td>\n",
       "    </tr>\n",
       "    <tr>\n",
       "      <th>1</th>\n",
       "      <td>Algeria</td>\n",
       "      <td>Algeria</td>\n",
       "      <td>NaN</td>\n",
       "      <td>Algeria</td>\n",
       "      <td>39900000</td>\n",
       "      <td>39.90</td>\n",
       "    </tr>\n",
       "    <tr>\n",
       "      <th>2</th>\n",
       "      <td>Angola</td>\n",
       "      <td>Angola</td>\n",
       "      <td>NaN</td>\n",
       "      <td>Angola</td>\n",
       "      <td>27900000</td>\n",
       "      <td>27.90</td>\n",
       "    </tr>\n",
       "    <tr>\n",
       "      <th>3</th>\n",
       "      <td>Argentina</td>\n",
       "      <td>Argentina</td>\n",
       "      <td>0.6990</td>\n",
       "      <td>Argentina</td>\n",
       "      <td>43400000</td>\n",
       "      <td>43.40</td>\n",
       "    </tr>\n",
       "    <tr>\n",
       "      <th>4</th>\n",
       "      <td>Armenia</td>\n",
       "      <td>Armenia</td>\n",
       "      <td>0.0741</td>\n",
       "      <td>Armenia</td>\n",
       "      <td>2920000</td>\n",
       "      <td>2.92</td>\n",
       "    </tr>\n",
       "  </tbody>\n",
       "</table>\n",
       "</div>"
      ],
      "text/plain": [
       "       key_0  country_x  pov_in_mill  country_y  pop-2015  pop-mill-2015\n",
       "0    Albania    Albania          NaN    Albania   2920000           2.92\n",
       "1    Algeria    Algeria          NaN    Algeria  39900000          39.90\n",
       "2     Angola     Angola          NaN     Angola  27900000          27.90\n",
       "3  Argentina  Argentina       0.6990  Argentina  43400000          43.40\n",
       "4    Armenia    Armenia       0.0741    Armenia   2920000           2.92"
      ]
     },
     "execution_count": 42,
     "metadata": {},
     "output_type": "execute_result"
    }
   ],
   "source": [
    "df_pov.head()"
   ]
  },
  {
   "cell_type": "code",
   "execution_count": 43,
   "metadata": {},
   "outputs": [],
   "source": [
    "df_pov.drop('key_0', axis =1, inplace=True)"
   ]
  },
  {
   "cell_type": "code",
   "execution_count": 44,
   "metadata": {},
   "outputs": [],
   "source": [
    "## Only want to show rows that have both Povery and Population data\n",
    "\n",
    "df_pov =df_pov.dropna()"
   ]
  },
  {
   "cell_type": "code",
   "execution_count": 45,
   "metadata": {},
   "outputs": [],
   "source": [
    "df_pov['poverty_pop_pcnt'] = df_pov['pov_in_mill']/df_pov['pop-mill-2015']"
   ]
  },
  {
   "cell_type": "code",
   "execution_count": 46,
   "metadata": {},
   "outputs": [],
   "source": [
    "## MERGE TRAFFICKING & ILLEGAL ALIEN DATASETS WITH POVERTY DATASET\n",
    "\n",
    "df_combo_more = pd.merge(left = df_combo, right = df_pov, left_on = df_combo['Country'], right_on = df_pov['country_x'], how = 'outer')"
   ]
  },
  {
   "cell_type": "code",
   "execution_count": 47,
   "metadata": {},
   "outputs": [
    {
     "data": {
      "text/html": [
       "<div>\n",
       "<style scoped>\n",
       "    .dataframe tbody tr th:only-of-type {\n",
       "        vertical-align: middle;\n",
       "    }\n",
       "\n",
       "    .dataframe tbody tr th {\n",
       "        vertical-align: top;\n",
       "    }\n",
       "\n",
       "    .dataframe thead th {\n",
       "        text-align: right;\n",
       "    }\n",
       "</style>\n",
       "<table border=\"1\" class=\"dataframe\">\n",
       "  <thead>\n",
       "    <tr style=\"text-align: right;\">\n",
       "      <th></th>\n",
       "      <th>key_0</th>\n",
       "      <th>citizenship</th>\n",
       "      <th>Citizen_counts</th>\n",
       "      <th>trafficking_US_pcnt</th>\n",
       "      <th>trafficking_US_known_country_pcnt</th>\n",
       "      <th>Country</th>\n",
       "      <th>country_code</th>\n",
       "      <th>Illegal aliens in US - mill (2015)</th>\n",
       "      <th>% of US Illegal aliens (2015)</th>\n",
       "      <th>illeg_US_pcnt</th>\n",
       "      <th>country_x</th>\n",
       "      <th>pov_in_mill</th>\n",
       "      <th>country_y</th>\n",
       "      <th>pop-2015</th>\n",
       "      <th>pop-mill-2015</th>\n",
       "      <th>poverty_pop_pcnt</th>\n",
       "    </tr>\n",
       "  </thead>\n",
       "  <tbody>\n",
       "    <tr>\n",
       "      <th>0</th>\n",
       "      <td>China</td>\n",
       "      <td>CN</td>\n",
       "      <td>115.0</td>\n",
       "      <td>0.006782</td>\n",
       "      <td>0.023884</td>\n",
       "      <td>China</td>\n",
       "      <td>CN</td>\n",
       "      <td>0.32</td>\n",
       "      <td>2.7</td>\n",
       "      <td>0.027</td>\n",
       "      <td>China</td>\n",
       "      <td>123.000</td>\n",
       "      <td>China</td>\n",
       "      <td>1.400000e+09</td>\n",
       "      <td>1400.00</td>\n",
       "      <td>0.087857</td>\n",
       "    </tr>\n",
       "    <tr>\n",
       "      <th>1</th>\n",
       "      <td>NaN</td>\n",
       "      <td>HT</td>\n",
       "      <td>13.0</td>\n",
       "      <td>0.000767</td>\n",
       "      <td>0.002700</td>\n",
       "      <td>NaN</td>\n",
       "      <td>NaN</td>\n",
       "      <td>NaN</td>\n",
       "      <td>NaN</td>\n",
       "      <td>NaN</td>\n",
       "      <td>NaN</td>\n",
       "      <td>NaN</td>\n",
       "      <td>NaN</td>\n",
       "      <td>NaN</td>\n",
       "      <td>NaN</td>\n",
       "      <td>NaN</td>\n",
       "    </tr>\n",
       "    <tr>\n",
       "      <th>2</th>\n",
       "      <td>NaN</td>\n",
       "      <td>US</td>\n",
       "      <td>4159.0</td>\n",
       "      <td>0.245282</td>\n",
       "      <td>0.863759</td>\n",
       "      <td>NaN</td>\n",
       "      <td>NaN</td>\n",
       "      <td>NaN</td>\n",
       "      <td>NaN</td>\n",
       "      <td>NaN</td>\n",
       "      <td>NaN</td>\n",
       "      <td>NaN</td>\n",
       "      <td>NaN</td>\n",
       "      <td>NaN</td>\n",
       "      <td>NaN</td>\n",
       "      <td>NaN</td>\n",
       "    </tr>\n",
       "    <tr>\n",
       "      <th>3</th>\n",
       "      <td>NaN</td>\n",
       "      <td>ZZ</td>\n",
       "      <td>12141.0</td>\n",
       "      <td>0.716030</td>\n",
       "      <td>2.521495</td>\n",
       "      <td>NaN</td>\n",
       "      <td>NaN</td>\n",
       "      <td>NaN</td>\n",
       "      <td>NaN</td>\n",
       "      <td>NaN</td>\n",
       "      <td>NaN</td>\n",
       "      <td>NaN</td>\n",
       "      <td>NaN</td>\n",
       "      <td>NaN</td>\n",
       "      <td>NaN</td>\n",
       "      <td>NaN</td>\n",
       "    </tr>\n",
       "    <tr>\n",
       "      <th>4</th>\n",
       "      <td>India</td>\n",
       "      <td>IN</td>\n",
       "      <td>15.0</td>\n",
       "      <td>0.000885</td>\n",
       "      <td>0.003115</td>\n",
       "      <td>India</td>\n",
       "      <td>IN</td>\n",
       "      <td>0.47</td>\n",
       "      <td>3.9</td>\n",
       "      <td>0.039</td>\n",
       "      <td>India</td>\n",
       "      <td>389.000</td>\n",
       "      <td>India</td>\n",
       "      <td>1.310000e+09</td>\n",
       "      <td>1310.00</td>\n",
       "      <td>0.296947</td>\n",
       "    </tr>\n",
       "    <tr>\n",
       "      <th>5</th>\n",
       "      <td>Korea</td>\n",
       "      <td>KR</td>\n",
       "      <td>12.0</td>\n",
       "      <td>0.000708</td>\n",
       "      <td>0.002492</td>\n",
       "      <td>Korea</td>\n",
       "      <td>KR</td>\n",
       "      <td>0.23</td>\n",
       "      <td>1.9</td>\n",
       "      <td>0.019</td>\n",
       "      <td>NaN</td>\n",
       "      <td>NaN</td>\n",
       "      <td>NaN</td>\n",
       "      <td>NaN</td>\n",
       "      <td>NaN</td>\n",
       "      <td>NaN</td>\n",
       "    </tr>\n",
       "    <tr>\n",
       "      <th>6</th>\n",
       "      <td>Mexico</td>\n",
       "      <td>MX</td>\n",
       "      <td>444.0</td>\n",
       "      <td>0.026185</td>\n",
       "      <td>0.092212</td>\n",
       "      <td>Mexico</td>\n",
       "      <td>MX</td>\n",
       "      <td>6.58</td>\n",
       "      <td>55.0</td>\n",
       "      <td>0.550</td>\n",
       "      <td>Mexico</td>\n",
       "      <td>0.849</td>\n",
       "      <td>Mexico</td>\n",
       "      <td>1.260000e+08</td>\n",
       "      <td>126.00</td>\n",
       "      <td>0.006738</td>\n",
       "    </tr>\n",
       "    <tr>\n",
       "      <th>7</th>\n",
       "      <td>Philippines</td>\n",
       "      <td>PH</td>\n",
       "      <td>46.0</td>\n",
       "      <td>0.002713</td>\n",
       "      <td>0.009553</td>\n",
       "      <td>Philippines</td>\n",
       "      <td>PH</td>\n",
       "      <td>0.37</td>\n",
       "      <td>3.1</td>\n",
       "      <td>0.031</td>\n",
       "      <td>NaN</td>\n",
       "      <td>NaN</td>\n",
       "      <td>NaN</td>\n",
       "      <td>NaN</td>\n",
       "      <td>NaN</td>\n",
       "      <td>NaN</td>\n",
       "    </tr>\n",
       "    <tr>\n",
       "      <th>8</th>\n",
       "      <td>El Salvador</td>\n",
       "      <td>SV</td>\n",
       "      <td>11.0</td>\n",
       "      <td>0.000649</td>\n",
       "      <td>0.002285</td>\n",
       "      <td>El Salvador</td>\n",
       "      <td>SV</td>\n",
       "      <td>0.75</td>\n",
       "      <td>6.3</td>\n",
       "      <td>0.063</td>\n",
       "      <td>El Salvador</td>\n",
       "      <td>0.322</td>\n",
       "      <td>El Salvador</td>\n",
       "      <td>6.310000e+06</td>\n",
       "      <td>6.31</td>\n",
       "      <td>0.051030</td>\n",
       "    </tr>\n",
       "    <tr>\n",
       "      <th>9</th>\n",
       "      <td>Guatemala</td>\n",
       "      <td>NaN</td>\n",
       "      <td>NaN</td>\n",
       "      <td>NaN</td>\n",
       "      <td>NaN</td>\n",
       "      <td>Guatemala</td>\n",
       "      <td>GT</td>\n",
       "      <td>0.62</td>\n",
       "      <td>5.2</td>\n",
       "      <td>0.052</td>\n",
       "      <td>NaN</td>\n",
       "      <td>NaN</td>\n",
       "      <td>NaN</td>\n",
       "      <td>NaN</td>\n",
       "      <td>NaN</td>\n",
       "      <td>NaN</td>\n",
       "    </tr>\n",
       "  </tbody>\n",
       "</table>\n",
       "</div>"
      ],
      "text/plain": [
       "         key_0 citizenship  Citizen_counts  trafficking_US_pcnt  \\\n",
       "0        China          CN           115.0             0.006782   \n",
       "1          NaN          HT            13.0             0.000767   \n",
       "2          NaN          US          4159.0             0.245282   \n",
       "3          NaN          ZZ         12141.0             0.716030   \n",
       "4        India          IN            15.0             0.000885   \n",
       "5        Korea          KR            12.0             0.000708   \n",
       "6       Mexico          MX           444.0             0.026185   \n",
       "7  Philippines          PH            46.0             0.002713   \n",
       "8  El Salvador          SV            11.0             0.000649   \n",
       "9    Guatemala         NaN             NaN                  NaN   \n",
       "\n",
       "   trafficking_US_known_country_pcnt      Country country_code  \\\n",
       "0                           0.023884        China           CN   \n",
       "1                           0.002700          NaN          NaN   \n",
       "2                           0.863759          NaN          NaN   \n",
       "3                           2.521495          NaN          NaN   \n",
       "4                           0.003115        India           IN   \n",
       "5                           0.002492        Korea           KR   \n",
       "6                           0.092212       Mexico           MX   \n",
       "7                           0.009553  Philippines           PH   \n",
       "8                           0.002285  El Salvador           SV   \n",
       "9                                NaN    Guatemala           GT   \n",
       "\n",
       "   Illegal aliens in US - mill (2015)  % of US Illegal aliens (2015)  \\\n",
       "0                                0.32                            2.7   \n",
       "1                                 NaN                            NaN   \n",
       "2                                 NaN                            NaN   \n",
       "3                                 NaN                            NaN   \n",
       "4                                0.47                            3.9   \n",
       "5                                0.23                            1.9   \n",
       "6                                6.58                           55.0   \n",
       "7                                0.37                            3.1   \n",
       "8                                0.75                            6.3   \n",
       "9                                0.62                            5.2   \n",
       "\n",
       "   illeg_US_pcnt    country_x  pov_in_mill    country_y      pop-2015  \\\n",
       "0          0.027        China      123.000        China  1.400000e+09   \n",
       "1            NaN          NaN          NaN          NaN           NaN   \n",
       "2            NaN          NaN          NaN          NaN           NaN   \n",
       "3            NaN          NaN          NaN          NaN           NaN   \n",
       "4          0.039        India      389.000        India  1.310000e+09   \n",
       "5          0.019          NaN          NaN          NaN           NaN   \n",
       "6          0.550       Mexico        0.849       Mexico  1.260000e+08   \n",
       "7          0.031          NaN          NaN          NaN           NaN   \n",
       "8          0.063  El Salvador        0.322  El Salvador  6.310000e+06   \n",
       "9          0.052          NaN          NaN          NaN           NaN   \n",
       "\n",
       "   pop-mill-2015  poverty_pop_pcnt  \n",
       "0        1400.00          0.087857  \n",
       "1            NaN               NaN  \n",
       "2            NaN               NaN  \n",
       "3            NaN               NaN  \n",
       "4        1310.00          0.296947  \n",
       "5            NaN               NaN  \n",
       "6         126.00          0.006738  \n",
       "7            NaN               NaN  \n",
       "8           6.31          0.051030  \n",
       "9            NaN               NaN  "
      ]
     },
     "execution_count": 47,
     "metadata": {},
     "output_type": "execute_result"
    }
   ],
   "source": [
    "df_combo_more.head(10)"
   ]
  },
  {
   "cell_type": "code",
   "execution_count": 48,
   "metadata": {},
   "outputs": [],
   "source": [
    "df_combo_more.drop('key_0', axis =1, inplace=True)"
   ]
  },
  {
   "cell_type": "markdown",
   "metadata": {},
   "source": [
    "### KEY METRICS TO DISCOVER IF RELATED TO TRAFFICKING"
   ]
  },
  {
   "cell_type": "code",
   "execution_count": 49,
   "metadata": {},
   "outputs": [],
   "source": [
    "df_hypo = df_combo_more[['citizenship', 'illeg_US_pcnt', 'poverty_pop_pcnt', 'trafficking_US_pcnt']]"
   ]
  },
  {
   "cell_type": "code",
   "execution_count": 50,
   "metadata": {},
   "outputs": [
    {
     "data": {
      "text/plain": [
       "(71, 4)"
      ]
     },
     "execution_count": 50,
     "metadata": {},
     "output_type": "execute_result"
    }
   ],
   "source": [
    "df_hypo.shape"
   ]
  },
  {
   "cell_type": "code",
   "execution_count": 51,
   "metadata": {},
   "outputs": [
    {
     "data": {
      "text/html": [
       "<div>\n",
       "<style scoped>\n",
       "    .dataframe tbody tr th:only-of-type {\n",
       "        vertical-align: middle;\n",
       "    }\n",
       "\n",
       "    .dataframe tbody tr th {\n",
       "        vertical-align: top;\n",
       "    }\n",
       "\n",
       "    .dataframe thead th {\n",
       "        text-align: right;\n",
       "    }\n",
       "</style>\n",
       "<table border=\"1\" class=\"dataframe\">\n",
       "  <thead>\n",
       "    <tr style=\"text-align: right;\">\n",
       "      <th></th>\n",
       "      <th>citizenship</th>\n",
       "      <th>illeg_US_pcnt</th>\n",
       "      <th>poverty_pop_pcnt</th>\n",
       "      <th>trafficking_US_pcnt</th>\n",
       "    </tr>\n",
       "  </thead>\n",
       "  <tbody>\n",
       "    <tr>\n",
       "      <th>0</th>\n",
       "      <td>CN</td>\n",
       "      <td>0.027</td>\n",
       "      <td>0.087857</td>\n",
       "      <td>0.006782</td>\n",
       "    </tr>\n",
       "    <tr>\n",
       "      <th>1</th>\n",
       "      <td>HT</td>\n",
       "      <td>NaN</td>\n",
       "      <td>NaN</td>\n",
       "      <td>0.000767</td>\n",
       "    </tr>\n",
       "    <tr>\n",
       "      <th>2</th>\n",
       "      <td>US</td>\n",
       "      <td>NaN</td>\n",
       "      <td>NaN</td>\n",
       "      <td>0.245282</td>\n",
       "    </tr>\n",
       "    <tr>\n",
       "      <th>3</th>\n",
       "      <td>ZZ</td>\n",
       "      <td>NaN</td>\n",
       "      <td>NaN</td>\n",
       "      <td>0.716030</td>\n",
       "    </tr>\n",
       "    <tr>\n",
       "      <th>4</th>\n",
       "      <td>IN</td>\n",
       "      <td>0.039</td>\n",
       "      <td>0.296947</td>\n",
       "      <td>0.000885</td>\n",
       "    </tr>\n",
       "  </tbody>\n",
       "</table>\n",
       "</div>"
      ],
      "text/plain": [
       "  citizenship  illeg_US_pcnt  poverty_pop_pcnt  trafficking_US_pcnt\n",
       "0          CN          0.027          0.087857             0.006782\n",
       "1          HT            NaN               NaN             0.000767\n",
       "2          US            NaN               NaN             0.245282\n",
       "3          ZZ            NaN               NaN             0.716030\n",
       "4          IN          0.039          0.296947             0.000885"
      ]
     },
     "execution_count": 51,
     "metadata": {},
     "output_type": "execute_result"
    }
   ],
   "source": [
    "df_hypo.head()"
   ]
  },
  {
   "cell_type": "code",
   "execution_count": 52,
   "metadata": {},
   "outputs": [],
   "source": [
    "## want to look at rows where all 4 variables have a value, so can look at relationship \n",
    "\n",
    "df_hypo_notnull = df_hypo.dropna()"
   ]
  },
  {
   "cell_type": "markdown",
   "metadata": {},
   "source": [
    "### NOT ENOUGH DATA TO ESTABLISH ANY RELATIONSHIPS STATISTICALLY !!!"
   ]
  },
  {
   "cell_type": "code",
   "execution_count": 53,
   "metadata": {},
   "outputs": [
    {
     "data": {
      "text/plain": [
       "(4, 4)"
      ]
     },
     "execution_count": 53,
     "metadata": {},
     "output_type": "execute_result"
    }
   ],
   "source": [
    "df_hypo_notnull.shape"
   ]
  },
  {
   "cell_type": "code",
   "execution_count": 54,
   "metadata": {},
   "outputs": [
    {
     "data": {
      "text/html": [
       "<div>\n",
       "<style scoped>\n",
       "    .dataframe tbody tr th:only-of-type {\n",
       "        vertical-align: middle;\n",
       "    }\n",
       "\n",
       "    .dataframe tbody tr th {\n",
       "        vertical-align: top;\n",
       "    }\n",
       "\n",
       "    .dataframe thead th {\n",
       "        text-align: right;\n",
       "    }\n",
       "</style>\n",
       "<table border=\"1\" class=\"dataframe\">\n",
       "  <thead>\n",
       "    <tr style=\"text-align: right;\">\n",
       "      <th></th>\n",
       "      <th>citizenship</th>\n",
       "      <th>illeg_US_pcnt</th>\n",
       "      <th>poverty_pop_pcnt</th>\n",
       "      <th>trafficking_US_pcnt</th>\n",
       "    </tr>\n",
       "  </thead>\n",
       "  <tbody>\n",
       "    <tr>\n",
       "      <th>0</th>\n",
       "      <td>CN</td>\n",
       "      <td>0.027</td>\n",
       "      <td>0.087857</td>\n",
       "      <td>0.006782</td>\n",
       "    </tr>\n",
       "    <tr>\n",
       "      <th>4</th>\n",
       "      <td>IN</td>\n",
       "      <td>0.039</td>\n",
       "      <td>0.296947</td>\n",
       "      <td>0.000885</td>\n",
       "    </tr>\n",
       "    <tr>\n",
       "      <th>6</th>\n",
       "      <td>MX</td>\n",
       "      <td>0.550</td>\n",
       "      <td>0.006738</td>\n",
       "      <td>0.026185</td>\n",
       "    </tr>\n",
       "    <tr>\n",
       "      <th>8</th>\n",
       "      <td>SV</td>\n",
       "      <td>0.063</td>\n",
       "      <td>0.051030</td>\n",
       "      <td>0.000649</td>\n",
       "    </tr>\n",
       "  </tbody>\n",
       "</table>\n",
       "</div>"
      ],
      "text/plain": [
       "  citizenship  illeg_US_pcnt  poverty_pop_pcnt  trafficking_US_pcnt\n",
       "0          CN          0.027          0.087857             0.006782\n",
       "4          IN          0.039          0.296947             0.000885\n",
       "6          MX          0.550          0.006738             0.026185\n",
       "8          SV          0.063          0.051030             0.000649"
      ]
     },
     "execution_count": 54,
     "metadata": {},
     "output_type": "execute_result"
    }
   ],
   "source": [
    "df_hypo_notnull"
   ]
  },
  {
   "cell_type": "code",
   "execution_count": 55,
   "metadata": {},
   "outputs": [],
   "source": [
    "X = df_hypo_notnull.drop('citizenship', axis=1)"
   ]
  },
  {
   "cell_type": "code",
   "execution_count": 56,
   "metadata": {},
   "outputs": [
    {
     "name": "stdout",
     "output_type": "stream",
     "text": [
      "VIF illeg_US_pcnt: 19.98306173340889\n",
      "VIF poverty_pop_pcnt: 1.0162144338457426\n",
      "VIF trafficking_US_pcnt: 20.012996687717596\n"
     ]
    }
   ],
   "source": [
    "## looking for correlation between the values\n",
    "\n",
    "for i, col in enumerate(X.columns):\n",
    "    print('VIF {}: {}'.format(col,variance_inflation_factor(X.values,i)))\n",
    "    \n",
    "## High VIF (5-10 or higher) indicates high correlation between column and one or more column(s)"
   ]
  },
  {
   "cell_type": "code",
   "execution_count": 57,
   "metadata": {},
   "outputs": [],
   "source": [
    "## trying to explain human trafficking - what makes a country of origin ('citizenship') have a high % of trafficking in US\n",
    "\n",
    "y = X['trafficking_US_pcnt']"
   ]
  },
  {
   "cell_type": "code",
   "execution_count": 58,
   "metadata": {},
   "outputs": [],
   "source": [
    "## using illegal aliens and poverty as explainatory factors\n",
    "\n",
    "X = X.drop('trafficking_US_pcnt', axis=1)"
   ]
  },
  {
   "cell_type": "code",
   "execution_count": 59,
   "metadata": {},
   "outputs": [
    {
     "data": {
      "text/plain": [
       "(4, 2)"
      ]
     },
     "execution_count": 59,
     "metadata": {},
     "output_type": "execute_result"
    }
   ],
   "source": [
    "X.shape"
   ]
  },
  {
   "cell_type": "code",
   "execution_count": 60,
   "metadata": {},
   "outputs": [
    {
     "data": {
      "text/plain": [
       "(4,)"
      ]
     },
     "execution_count": 60,
     "metadata": {},
     "output_type": "execute_result"
    }
   ],
   "source": [
    "y.shape"
   ]
  },
  {
   "cell_type": "markdown",
   "metadata": {},
   "source": [
    "### MODELING SECTION BELOW IS JUST FOR FUN (not enough data)"
   ]
  },
  {
   "cell_type": "code",
   "execution_count": 61,
   "metadata": {},
   "outputs": [],
   "source": [
    "## looking for linear relationship b/n US Trafficking and Countries with High Poverty and High % of Illegal ALiens in US"
   ]
  },
  {
   "cell_type": "code",
   "execution_count": 62,
   "metadata": {},
   "outputs": [],
   "source": [
    "X_train, X_test, y_train, y_test = train_test_split(X.values, y)"
   ]
  },
  {
   "cell_type": "code",
   "execution_count": 63,
   "metadata": {},
   "outputs": [],
   "source": [
    "def linear_regressor(X_train, X_test, y_train, y_test):\n",
    "    \"\"\"\n",
    "    Create a linear regression model using sklearn. \n",
    "    \n",
    "    INPUTS: X_train, X_test, y_train, y_test\n",
    "    OUTPUTS: R-squared value, cross-validated R-squared value \n",
    "    \"\"\"\n",
    "    # instantiate the model\n",
    "    lr = LinearRegression()\n",
    "    \n",
    "    # fit the linear regression model to the training data\n",
    "    lr.fit(X_train, y_train)\n",
    "    \n",
    "    # predict on the unseen test set\n",
    "    y_pred = lr.predict(X_test)\n",
    "    \n",
    "    # print the R-squared value and cross-validated R-squared value\n",
    "    print('R-squared: {}'.format(r2_score(y_test, y_pred)))\n",
    "    print('CV score: {}'.format(np.mean(cross_val_score(lr, X_train, y_train, scoring='r2', cv=3))))"
   ]
  },
  {
   "cell_type": "code",
   "execution_count": 64,
   "metadata": {},
   "outputs": [
    {
     "name": "stdout",
     "output_type": "stream",
     "text": [
      "R-squared: 0.0\n",
      "CV score: 0.0\n"
     ]
    }
   ],
   "source": [
    "linear_regressor(X_train, X_test, y_train, y_test)"
   ]
  },
  {
   "cell_type": "code",
   "execution_count": 65,
   "metadata": {},
   "outputs": [
    {
     "name": "stdout",
     "output_type": "stream",
     "text": [
      "R-squared: 0.0\n",
      "CV score: -1.0834834014073662\n"
     ]
    }
   ],
   "source": [
    "linear_regressor(X, X_test, y, y_test)"
   ]
  },
  {
   "cell_type": "code",
   "execution_count": 66,
   "metadata": {},
   "outputs": [],
   "source": [
    "def plot_performances(X_train, X_test, y_train, y_test):\n",
    "    \"\"\"\n",
    "    Plot the performances of the linear regressor. \n",
    "    \n",
    "    INPUTS: X_train, X_test, y_train, y_test\n",
    "    OUTPUTS:\n",
    "    - R-squared values\n",
    "    - plot of test set performance (y_true vs. y_pred)\n",
    "    - plot of train set performance (y_true vs. y_pred)\n",
    "    \"\"\"\n",
    "    # model test and train set separately\n",
    "    lr = LinearRegression()\n",
    "    lr.fit(X_train, y_train)\n",
    "    model_test = pd.DataFrame({'y_test': y_test, 'y_pred': lr.predict(X_test)})\n",
    "    model_train = pd.DataFrame({'y_train': y_train, 'y_pred': lr.predict(X_train)})\n",
    "    \n",
    "    # print R-squared values for test and train set\n",
    "    print('Test R-squared: {}'.format(r2_score(y_test, lr.predict(X_test))))\n",
    "    print('Train R-squared: {}'.format(r2_score(y_train, lr.predict(X_train))))\n",
    "    \n",
    "    # plot performance of test set\n",
    "    sns.lmplot(x='y_pred', y='y_test', data=model_test)\n",
    "    plt.title('Test set')\n",
    "    \n",
    "    # plot performance of train set\n",
    "    sns.lmplot(x='y_pred', y='y_train', data=model_train)\n",
    "    plt.title('Train set')"
   ]
  },
  {
   "cell_type": "code",
   "execution_count": 67,
   "metadata": {},
   "outputs": [
    {
     "name": "stdout",
     "output_type": "stream",
     "text": [
      "Test R-squared: 0.0\n",
      "Train R-squared: 1.0\n"
     ]
    },
    {
     "name": "stderr",
     "output_type": "stream",
     "text": [
      "C:\\Users\\ekvtjdx\\AppData\\Local\\Continuum\\anaconda3\\lib\\site-packages\\scipy\\stats\\stats.py:1713: FutureWarning: Using a non-tuple sequence for multidimensional indexing is deprecated; use `arr[tuple(seq)]` instead of `arr[seq]`. In the future this will be interpreted as an array index, `arr[np.array(seq)]`, which will result either in an error or a different result.\n",
      "  return np.add.reduce(sorted[indexer] * weights, axis=axis) / sumval\n"
     ]
    },
    {
     "data": {
      "image/png": "[encoded data removed]",
      "text/plain": [
       "<Figure size 360x360 with 1 Axes>"
      ]
     },
     "metadata": {
      "needs_background": "light"
     },
     "output_type": "display_data"
    },
    {
     "data": {
      "image/png": "[encoded data removed]",
      "text/plain": [
       "<Figure size 360x360 with 1 Axes>"
      ]
     },
     "metadata": {
      "needs_background": "light"
     },
     "output_type": "display_data"
    }
   ],
   "source": [
    "plot_performances(X_train, X_test, y_train, y_test)"
   ]
  },
  {
   "cell_type": "code",
   "execution_count": 68,
   "metadata": {},
   "outputs": [
    {
     "name": "stdout",
     "output_type": "stream",
     "text": [
      "Test R-squared: 0.0\n",
      "Train R-squared: 0.9256519843236855\n"
     ]
    },
    {
     "name": "stderr",
     "output_type": "stream",
     "text": [
      "C:\\Users\\ekvtjdx\\AppData\\Local\\Continuum\\anaconda3\\lib\\site-packages\\scipy\\stats\\stats.py:1713: FutureWarning: Using a non-tuple sequence for multidimensional indexing is deprecated; use `arr[tuple(seq)]` instead of `arr[seq]`. In the future this will be interpreted as an array index, `arr[np.array(seq)]`, which will result either in an error or a different result.\n",
      "  return np.add.reduce(sorted[indexer] * weights, axis=axis) / sumval\n"
     ]
    },
    {
     "data": {
      "image/png": "[encoded data removed]",
      "text/plain": [
       "<Figure size 360x360 with 1 Axes>"
      ]
     },
     "metadata": {
      "needs_background": "light"
     },
     "output_type": "display_data"
    },
    {
     "data": {
      "image/png": "[encoded data removed]",
      "text/plain": [
       "<Figure size 360x360 with 1 Axes>"
      ]
     },
     "metadata": {
      "needs_background": "light"
     },
     "output_type": "display_data"
    }
   ],
   "source": [
    "plot_performances(X, X_test, y, y_test)"
   ]
  },
  {
   "cell_type": "code",
   "execution_count": 69,
   "metadata": {},
   "outputs": [
    {
     "data": {
      "image/png": "[encoded data removed]",
      "text/plain": [
       "<Figure size 432x288 with 1 Axes>"
      ]
     },
     "metadata": {
      "needs_background": "light"
     },
     "output_type": "display_data"
    }
   ],
   "source": [
    "x1 = X['illeg_US_pcnt']\n",
    "plt.scatter(x1, y)\n",
    "plt.xlabel ('Illegal Aliens in US as % for a Country')\n",
    "plt.ylabel ('Human Trafficking in US as % for a County')\n",
    "plt.show()"
   ]
  },
  {
   "cell_type": "code",
   "execution_count": 70,
   "metadata": {},
   "outputs": [
    {
     "data": {
      "image/png": "[encoded data removed]",
      "text/plain": [
       "<Figure size 432x288 with 1 Axes>"
      ]
     },
     "metadata": {
      "needs_background": "light"
     },
     "output_type": "display_data"
    }
   ],
   "source": [
    "x2 = X['poverty_pop_pcnt']\n",
    "plt.scatter(x2, y)\n",
    "plt.xlabel ('Povery as % of Population in a Country')\n",
    "plt.ylabel ('Human Trafficking in US as % for a County')\n",
    "plt.show()"
   ]
  },
  {
   "cell_type": "markdown",
   "metadata": {},
   "source": [
    "### Modeling section above not used - but Hackathon and external datasets used in POWER BI visualization"
   ]
  },
  {
   "cell_type": "markdown",
   "metadata": {},
   "source": [
    "## SOURCES explored, and also used in visualization:   \n",
    "\n",
    "### Illegal Alien stats:  www.dhs.gov/immigration-statistics# (Department of Homeland Security) \n",
    "### Population, Poverty, HDI, GDP, Battle Death stats:  www.gapminder.org/data/ (Gapminder World Data)"
   ]
  },
  {
   "cell_type": "code",
   "execution_count": null,
   "metadata": {},
   "outputs": [],
   "source": []
  }
 ],
 "metadata": {
  "kernelspec": {
   "display_name": "Python 3",
   "language": "python",
   "name": "python3"
  },
  "language_info": {
   "codemirror_mode": {
    "name": "ipython",
    "version": 3
   },
   "file_extension": ".py",
   "mimetype": "text/x-python",
   "name": "python",
   "nbconvert_exporter": "python",
   "pygments_lexer": "ipython3",
   "version": "3.7.1"
  }
 },
 "nbformat": 4,
 "nbformat_minor": 2
}
